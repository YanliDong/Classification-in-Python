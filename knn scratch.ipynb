{
 "cells": [
  {
   "cell_type": "code",
   "execution_count": 1,
   "metadata": {},
   "outputs": [],
   "source": [
    "import numpy as np\n",
    "from collections import Counter\n",
    "\n",
    "\n",
    "class KNN:\n",
    "    def __init__(self,k=5):\n",
    "        self.k=k\n",
    "    \n",
    "    def fit(self,X_train,y_train):\n",
    "        self.X_train=X_train\n",
    "        self.y_train=y_train\n",
    "        \n",
    "    def predict(self,X_test):\n",
    "        prediction = []\n",
    "        \n",
    "        if X_test.ndim==2:\n",
    "            for i in range(len(X_test)):\n",
    "                prediction.append(self.find_distance(X_test[i,:]))\n",
    "            return np.asarray(prediction)\n",
    "        else:\n",
    "            print(\"Expected 2D array got 1D array instead:\")\n",
    "            \n",
    "    def find_distance(self,test):\n",
    "        distance=[]\n",
    "        target=[]\n",
    "        for i in range(len(self.X_train)):\n",
    "            d=np.sqrt(np.sum(np.square(test-self.X_train[i,:])))\n",
    "            distance.append([d,i])\n",
    "            \n",
    "            \n",
    "        distance=sorted(distance,key=lambda x:x[0])\n",
    "        \n",
    "        \n",
    "        for i in range(self.k):\n",
    "            index=distance[i][1]\n",
    "            target.append(self.y_train[index])\n",
    "            \n",
    "        vote = Counter(target).most_common(1)[0][0]\n",
    "        return(vote)"
   ]
  },
  {
   "cell_type": "code",
   "execution_count": 2,
   "metadata": {},
   "outputs": [
    {
     "name": "stdout",
     "output_type": "stream",
     "text": [
      "[1 2 0 1 0 1 2 1 0 1 1 2 1 0 0 2 1 0 0 0 2 2 2 0 1 0 1 1 1 2 1 1 2 2 2 0 2\n",
      " 2 2 2 0 0 1 0 1 0 1 2 2 2 1 2 1 1 1 0 0 2 0 2 0 0 1 1 2 0 2 0 1 2 0 2 2 2\n",
      " 2]\n",
      "[1 2 0 1 0 1 1 1 0 1 1 2 1 0 0 2 1 0 0 0 2 2 2 0 1 0 1 1 1 2 1 1 2 2 2 0 2\n",
      " 2 2 2 0 0 1 0 1 0 1 1 2 2 1 2 1 1 1 0 0 1 0 2 0 0 2 1 2 0 2 0 1 1 0 2 2 2\n",
      " 2]\n",
      "0.9333333333333333\n"
     ]
    }
   ],
   "source": [
    "from sklearn.datasets import load_iris\n",
    "from sklearn.model_selection import train_test_split\n",
    "\n",
    "iris = load_iris()\n",
    "\n",
    "X=iris.data\n",
    "y=iris.target\n",
    "\n",
    "X_train,X_test,y_train,y_test = train_test_split(X,y,test_size=.5,random_state=10)\n",
    "\n",
    "knn=KNN()\n",
    "\n",
    "knn.fit(X_train,y_train)\n",
    "pred = knn.predict(X_test)\n",
    "\n",
    "print(pred)\n",
    "print(y_test)\n",
    "\n",
    "\n",
    "from sklearn.metrics import accuracy_score\n",
    "print(accuracy_score(y_test,pred))"
   ]
  },
  {
   "cell_type": "code",
   "execution_count": null,
   "metadata": {},
   "outputs": [],
   "source": []
  }
 ],
 "metadata": {
  "kernelspec": {
   "display_name": "Python 3",
   "language": "python",
   "name": "python3"
  },
  "language_info": {
   "codemirror_mode": {
    "name": "ipython",
    "version": 3
   },
   "file_extension": ".py",
   "mimetype": "text/x-python",
   "name": "python",
   "nbconvert_exporter": "python",
   "pygments_lexer": "ipython3",
   "version": "3.7.4"
  }
 },
 "nbformat": 4,
 "nbformat_minor": 2
}
