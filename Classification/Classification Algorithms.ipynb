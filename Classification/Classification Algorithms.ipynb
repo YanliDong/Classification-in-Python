{
 "cells": [
  {
   "cell_type": "code",
   "execution_count": 1,
   "metadata": {},
   "outputs": [],
   "source": [
    "import pandas as pd\n",
    "import matplotlib.pyplot as plot\n",
    "%matplotlib inline"
   ]
  },
  {
   "cell_type": "code",
   "execution_count": 2,
   "metadata": {},
   "outputs": [],
   "source": [
    "animals = pd.read_csv(\"horse.csv\")"
   ]
  },
  {
   "cell_type": "code",
   "execution_count": 3,
   "metadata": {},
   "outputs": [
    {
     "data": {
      "text/html": [
       "<div>\n",
       "<style scoped>\n",
       "    .dataframe tbody tr th:only-of-type {\n",
       "        vertical-align: middle;\n",
       "    }\n",
       "\n",
       "    .dataframe tbody tr th {\n",
       "        vertical-align: top;\n",
       "    }\n",
       "\n",
       "    .dataframe thead th {\n",
       "        text-align: right;\n",
       "    }\n",
       "</style>\n",
       "<table border=\"1\" class=\"dataframe\">\n",
       "  <thead>\n",
       "    <tr style=\"text-align: right;\">\n",
       "      <th></th>\n",
       "      <th>surgery</th>\n",
       "      <th>age</th>\n",
       "      <th>hospital_number</th>\n",
       "      <th>rectal_temp</th>\n",
       "      <th>pulse</th>\n",
       "      <th>respiratory_rate</th>\n",
       "      <th>temp_of_extremities</th>\n",
       "      <th>peripheral_pulse</th>\n",
       "      <th>mucous_membrane</th>\n",
       "      <th>capillary_refill_time</th>\n",
       "      <th>...</th>\n",
       "      <th>packed_cell_volume</th>\n",
       "      <th>total_protein</th>\n",
       "      <th>abdomo_appearance</th>\n",
       "      <th>abdomo_protein</th>\n",
       "      <th>outcome</th>\n",
       "      <th>surgical_lesion</th>\n",
       "      <th>lesion_1</th>\n",
       "      <th>lesion_2</th>\n",
       "      <th>lesion_3</th>\n",
       "      <th>cp_data</th>\n",
       "    </tr>\n",
       "  </thead>\n",
       "  <tbody>\n",
       "    <tr>\n",
       "      <th>0</th>\n",
       "      <td>no</td>\n",
       "      <td>adult</td>\n",
       "      <td>530101</td>\n",
       "      <td>38.5</td>\n",
       "      <td>66.0</td>\n",
       "      <td>28.0</td>\n",
       "      <td>cool</td>\n",
       "      <td>reduced</td>\n",
       "      <td>NaN</td>\n",
       "      <td>more_3_sec</td>\n",
       "      <td>...</td>\n",
       "      <td>45.0</td>\n",
       "      <td>8.4</td>\n",
       "      <td>NaN</td>\n",
       "      <td>NaN</td>\n",
       "      <td>died</td>\n",
       "      <td>no</td>\n",
       "      <td>11300</td>\n",
       "      <td>0</td>\n",
       "      <td>0</td>\n",
       "      <td>no</td>\n",
       "    </tr>\n",
       "    <tr>\n",
       "      <th>1</th>\n",
       "      <td>yes</td>\n",
       "      <td>adult</td>\n",
       "      <td>534817</td>\n",
       "      <td>39.2</td>\n",
       "      <td>88.0</td>\n",
       "      <td>20.0</td>\n",
       "      <td>NaN</td>\n",
       "      <td>NaN</td>\n",
       "      <td>pale_cyanotic</td>\n",
       "      <td>less_3_sec</td>\n",
       "      <td>...</td>\n",
       "      <td>50.0</td>\n",
       "      <td>85.0</td>\n",
       "      <td>cloudy</td>\n",
       "      <td>2.0</td>\n",
       "      <td>euthanized</td>\n",
       "      <td>no</td>\n",
       "      <td>2208</td>\n",
       "      <td>0</td>\n",
       "      <td>0</td>\n",
       "      <td>no</td>\n",
       "    </tr>\n",
       "    <tr>\n",
       "      <th>2</th>\n",
       "      <td>no</td>\n",
       "      <td>adult</td>\n",
       "      <td>530334</td>\n",
       "      <td>38.3</td>\n",
       "      <td>40.0</td>\n",
       "      <td>24.0</td>\n",
       "      <td>normal</td>\n",
       "      <td>normal</td>\n",
       "      <td>pale_pink</td>\n",
       "      <td>less_3_sec</td>\n",
       "      <td>...</td>\n",
       "      <td>33.0</td>\n",
       "      <td>6.7</td>\n",
       "      <td>NaN</td>\n",
       "      <td>NaN</td>\n",
       "      <td>lived</td>\n",
       "      <td>no</td>\n",
       "      <td>0</td>\n",
       "      <td>0</td>\n",
       "      <td>0</td>\n",
       "      <td>yes</td>\n",
       "    </tr>\n",
       "    <tr>\n",
       "      <th>3</th>\n",
       "      <td>yes</td>\n",
       "      <td>young</td>\n",
       "      <td>5290409</td>\n",
       "      <td>39.1</td>\n",
       "      <td>164.0</td>\n",
       "      <td>84.0</td>\n",
       "      <td>cold</td>\n",
       "      <td>normal</td>\n",
       "      <td>dark_cyanotic</td>\n",
       "      <td>more_3_sec</td>\n",
       "      <td>...</td>\n",
       "      <td>48.0</td>\n",
       "      <td>7.2</td>\n",
       "      <td>serosanguious</td>\n",
       "      <td>5.3</td>\n",
       "      <td>died</td>\n",
       "      <td>yes</td>\n",
       "      <td>2208</td>\n",
       "      <td>0</td>\n",
       "      <td>0</td>\n",
       "      <td>yes</td>\n",
       "    </tr>\n",
       "    <tr>\n",
       "      <th>4</th>\n",
       "      <td>no</td>\n",
       "      <td>adult</td>\n",
       "      <td>530255</td>\n",
       "      <td>37.3</td>\n",
       "      <td>104.0</td>\n",
       "      <td>35.0</td>\n",
       "      <td>NaN</td>\n",
       "      <td>NaN</td>\n",
       "      <td>dark_cyanotic</td>\n",
       "      <td>more_3_sec</td>\n",
       "      <td>...</td>\n",
       "      <td>74.0</td>\n",
       "      <td>7.4</td>\n",
       "      <td>NaN</td>\n",
       "      <td>NaN</td>\n",
       "      <td>died</td>\n",
       "      <td>no</td>\n",
       "      <td>4300</td>\n",
       "      <td>0</td>\n",
       "      <td>0</td>\n",
       "      <td>no</td>\n",
       "    </tr>\n",
       "  </tbody>\n",
       "</table>\n",
       "<p>5 rows × 28 columns</p>\n",
       "</div>"
      ],
      "text/plain": [
       "  surgery    age  hospital_number  rectal_temp  pulse  respiratory_rate  \\\n",
       "0      no  adult           530101         38.5   66.0              28.0   \n",
       "1     yes  adult           534817         39.2   88.0              20.0   \n",
       "2      no  adult           530334         38.3   40.0              24.0   \n",
       "3     yes  young          5290409         39.1  164.0              84.0   \n",
       "4      no  adult           530255         37.3  104.0              35.0   \n",
       "\n",
       "  temp_of_extremities peripheral_pulse mucous_membrane capillary_refill_time  \\\n",
       "0                cool          reduced             NaN            more_3_sec   \n",
       "1                 NaN              NaN   pale_cyanotic            less_3_sec   \n",
       "2              normal           normal       pale_pink            less_3_sec   \n",
       "3                cold           normal   dark_cyanotic            more_3_sec   \n",
       "4                 NaN              NaN   dark_cyanotic            more_3_sec   \n",
       "\n",
       "   ... packed_cell_volume total_protein abdomo_appearance abdomo_protein  \\\n",
       "0  ...               45.0           8.4               NaN            NaN   \n",
       "1  ...               50.0          85.0            cloudy            2.0   \n",
       "2  ...               33.0           6.7               NaN            NaN   \n",
       "3  ...               48.0           7.2     serosanguious            5.3   \n",
       "4  ...               74.0           7.4               NaN            NaN   \n",
       "\n",
       "      outcome  surgical_lesion lesion_1 lesion_2  lesion_3  cp_data  \n",
       "0        died               no    11300        0         0       no  \n",
       "1  euthanized               no     2208        0         0       no  \n",
       "2       lived               no        0        0         0      yes  \n",
       "3        died              yes     2208        0         0      yes  \n",
       "4        died               no     4300        0         0       no  \n",
       "\n",
       "[5 rows x 28 columns]"
      ]
     },
     "execution_count": 3,
     "metadata": {},
     "output_type": "execute_result"
    }
   ],
   "source": [
    "animals.head()"
   ]
  },
  {
   "cell_type": "code",
   "execution_count": 4,
   "metadata": {},
   "outputs": [
    {
     "data": {
      "text/plain": [
       "0            died\n",
       "1      euthanized\n",
       "2           lived\n",
       "3            died\n",
       "4            died\n",
       "          ...    \n",
       "294    euthanized\n",
       "295    euthanized\n",
       "296          died\n",
       "297         lived\n",
       "298    euthanized\n",
       "Name: outcome, Length: 299, dtype: object"
      ]
     },
     "execution_count": 4,
     "metadata": {},
     "output_type": "execute_result"
    }
   ],
   "source": [
    "animals.outcome"
   ]
  },
  {
   "cell_type": "code",
   "execution_count": 5,
   "metadata": {},
   "outputs": [],
   "source": [
    "target = animals['outcome']"
   ]
  },
  {
   "cell_type": "code",
   "execution_count": 6,
   "metadata": {},
   "outputs": [
    {
     "data": {
      "text/plain": [
       "array(['died', 'euthanized', 'lived'], dtype=object)"
      ]
     },
     "execution_count": 6,
     "metadata": {},
     "output_type": "execute_result"
    }
   ],
   "source": [
    "target.unique()"
   ]
  },
  {
   "cell_type": "code",
   "execution_count": 7,
   "metadata": {},
   "outputs": [],
   "source": [
    "animals = animals.drop(['outcome'],axis=1)"
   ]
  },
  {
   "cell_type": "code",
   "execution_count": 9,
   "metadata": {
    "scrolled": false
   },
   "outputs": [
    {
     "name": "stdout",
     "output_type": "stream",
     "text": [
      "<class 'pandas.core.frame.DataFrame'>\n",
      "RangeIndex: 299 entries, 0 to 298\n",
      "Data columns (total 27 columns):\n",
      " #   Column                 Non-Null Count  Dtype  \n",
      "---  ------                 --------------  -----  \n",
      " 0   surgery                299 non-null    object \n",
      " 1   age                    299 non-null    object \n",
      " 2   hospital_number        299 non-null    int64  \n",
      " 3   rectal_temp            239 non-null    float64\n",
      " 4   pulse                  275 non-null    float64\n",
      " 5   respiratory_rate       241 non-null    float64\n",
      " 6   temp_of_extremities    243 non-null    object \n",
      " 7   peripheral_pulse       230 non-null    object \n",
      " 8   mucous_membrane        252 non-null    object \n",
      " 9   capillary_refill_time  267 non-null    object \n",
      " 10  pain                   244 non-null    object \n",
      " 11  peristalsis            255 non-null    object \n",
      " 12  abdominal_distention   243 non-null    object \n",
      " 13  nasogastric_tube       195 non-null    object \n",
      " 14  nasogastric_reflux     193 non-null    object \n",
      " 15  nasogastric_reflux_ph  53 non-null     float64\n",
      " 16  rectal_exam_feces      197 non-null    object \n",
      " 17  abdomen                181 non-null    object \n",
      " 18  packed_cell_volume     270 non-null    float64\n",
      " 19  total_protein          266 non-null    float64\n",
      " 20  abdomo_appearance      134 non-null    object \n",
      " 21  abdomo_protein         101 non-null    float64\n",
      " 22  surgical_lesion        299 non-null    object \n",
      " 23  lesion_1               299 non-null    int64  \n",
      " 24  lesion_2               299 non-null    int64  \n",
      " 25  lesion_3               299 non-null    int64  \n",
      " 26  cp_data                299 non-null    object \n",
      "dtypes: float64(7), int64(4), object(16)\n",
      "memory usage: 63.2+ KB\n"
     ]
    }
   ],
   "source": [
    "animals.info()"
   ]
  },
  {
   "cell_type": "code",
   "execution_count": 10,
   "metadata": {},
   "outputs": [],
   "source": [
    "missing_perc = animals.isnull().sum()/animals.shape[0]"
   ]
  },
  {
   "cell_type": "code",
   "execution_count": 11,
   "metadata": {},
   "outputs": [
    {
     "data": {
      "text/plain": [
       "surgery                  0.000000\n",
       "age                      0.000000\n",
       "hospital_number          0.000000\n",
       "rectal_temp              0.200669\n",
       "pulse                    0.080268\n",
       "respiratory_rate         0.193980\n",
       "temp_of_extremities      0.187291\n",
       "peripheral_pulse         0.230769\n",
       "mucous_membrane          0.157191\n",
       "capillary_refill_time    0.107023\n",
       "pain                     0.183946\n",
       "peristalsis              0.147157\n",
       "abdominal_distention     0.187291\n",
       "nasogastric_tube         0.347826\n",
       "nasogastric_reflux       0.354515\n",
       "nasogastric_reflux_ph    0.822742\n",
       "rectal_exam_feces        0.341137\n",
       "abdomen                  0.394649\n",
       "packed_cell_volume       0.096990\n",
       "total_protein            0.110368\n",
       "abdomo_appearance        0.551839\n",
       "abdomo_protein           0.662207\n",
       "surgical_lesion          0.000000\n",
       "lesion_1                 0.000000\n",
       "lesion_2                 0.000000\n",
       "lesion_3                 0.000000\n",
       "cp_data                  0.000000\n",
       "dtype: float64"
      ]
     },
     "execution_count": 11,
     "metadata": {},
     "output_type": "execute_result"
    }
   ],
   "source": [
    "missing_perc"
   ]
  },
  {
   "cell_type": "code",
   "execution_count": 12,
   "metadata": {},
   "outputs": [
    {
     "data": {
      "text/plain": [
       "['nasogastric_tube',\n",
       " 'nasogastric_reflux',\n",
       " 'nasogastric_reflux_ph',\n",
       " 'rectal_exam_feces',\n",
       " 'abdomen',\n",
       " 'abdomo_appearance',\n",
       " 'abdomo_protein']"
      ]
     },
     "execution_count": 12,
     "metadata": {},
     "output_type": "execute_result"
    }
   ],
   "source": [
    "list(missing_perc[missing_perc > 0.3].index)"
   ]
  },
  {
   "cell_type": "code",
   "execution_count": 13,
   "metadata": {},
   "outputs": [],
   "source": [
    "animals = animals.drop(list(missing_perc[missing_perc >0.3].index), axis=1)"
   ]
  },
  {
   "cell_type": "code",
   "execution_count": 14,
   "metadata": {},
   "outputs": [],
   "source": [
    "missing_perc = animals.isnull().sum()/animals.shape[0]"
   ]
  },
  {
   "cell_type": "code",
   "execution_count": 15,
   "metadata": {},
   "outputs": [
    {
     "data": {
      "text/plain": [
       "surgery                  0.000000\n",
       "age                      0.000000\n",
       "hospital_number          0.000000\n",
       "rectal_temp              0.200669\n",
       "pulse                    0.080268\n",
       "respiratory_rate         0.193980\n",
       "temp_of_extremities      0.187291\n",
       "peripheral_pulse         0.230769\n",
       "mucous_membrane          0.157191\n",
       "capillary_refill_time    0.107023\n",
       "pain                     0.183946\n",
       "peristalsis              0.147157\n",
       "abdominal_distention     0.187291\n",
       "packed_cell_volume       0.096990\n",
       "total_protein            0.110368\n",
       "surgical_lesion          0.000000\n",
       "lesion_1                 0.000000\n",
       "lesion_2                 0.000000\n",
       "lesion_3                 0.000000\n",
       "cp_data                  0.000000\n",
       "dtype: float64"
      ]
     },
     "execution_count": 15,
     "metadata": {},
     "output_type": "execute_result"
    }
   ],
   "source": [
    "missing_perc"
   ]
  },
  {
   "cell_type": "code",
   "execution_count": 16,
   "metadata": {},
   "outputs": [],
   "source": [
    "for cols in animals.columns:\n",
    "    animals[cols] = animals[cols].fillna(animals[cols].mode()[0])"
   ]
  },
  {
   "cell_type": "code",
   "execution_count": 17,
   "metadata": {
    "scrolled": false
   },
   "outputs": [
    {
     "data": {
      "text/plain": [
       "surgery                  0.0\n",
       "age                      0.0\n",
       "hospital_number          0.0\n",
       "rectal_temp              0.0\n",
       "pulse                    0.0\n",
       "respiratory_rate         0.0\n",
       "temp_of_extremities      0.0\n",
       "peripheral_pulse         0.0\n",
       "mucous_membrane          0.0\n",
       "capillary_refill_time    0.0\n",
       "pain                     0.0\n",
       "peristalsis              0.0\n",
       "abdominal_distention     0.0\n",
       "packed_cell_volume       0.0\n",
       "total_protein            0.0\n",
       "surgical_lesion          0.0\n",
       "lesion_1                 0.0\n",
       "lesion_2                 0.0\n",
       "lesion_3                 0.0\n",
       "cp_data                  0.0\n",
       "dtype: float64"
      ]
     },
     "execution_count": 17,
     "metadata": {},
     "output_type": "execute_result"
    }
   ],
   "source": [
    "animals.isnull().sum()/animals.shape[0]"
   ]
  },
  {
   "cell_type": "code",
   "execution_count": 18,
   "metadata": {
    "scrolled": false
   },
   "outputs": [
    {
     "name": "stdout",
     "output_type": "stream",
     "text": [
      "<class 'pandas.core.frame.DataFrame'>\n",
      "RangeIndex: 299 entries, 0 to 298\n",
      "Data columns (total 20 columns):\n",
      " #   Column                 Non-Null Count  Dtype  \n",
      "---  ------                 --------------  -----  \n",
      " 0   surgery                299 non-null    object \n",
      " 1   age                    299 non-null    object \n",
      " 2   hospital_number        299 non-null    int64  \n",
      " 3   rectal_temp            299 non-null    float64\n",
      " 4   pulse                  299 non-null    float64\n",
      " 5   respiratory_rate       299 non-null    float64\n",
      " 6   temp_of_extremities    299 non-null    object \n",
      " 7   peripheral_pulse       299 non-null    object \n",
      " 8   mucous_membrane        299 non-null    object \n",
      " 9   capillary_refill_time  299 non-null    object \n",
      " 10  pain                   299 non-null    object \n",
      " 11  peristalsis            299 non-null    object \n",
      " 12  abdominal_distention   299 non-null    object \n",
      " 13  packed_cell_volume     299 non-null    float64\n",
      " 14  total_protein          299 non-null    float64\n",
      " 15  surgical_lesion        299 non-null    object \n",
      " 16  lesion_1               299 non-null    int64  \n",
      " 17  lesion_2               299 non-null    int64  \n",
      " 18  lesion_3               299 non-null    int64  \n",
      " 19  cp_data                299 non-null    object \n",
      "dtypes: float64(5), int64(4), object(11)\n",
      "memory usage: 46.8+ KB\n"
     ]
    }
   ],
   "source": [
    "animals.info()"
   ]
  },
  {
   "cell_type": "code",
   "execution_count": 19,
   "metadata": {},
   "outputs": [
    {
     "data": {
      "text/plain": [
       "283"
      ]
     },
     "execution_count": 19,
     "metadata": {},
     "output_type": "execute_result"
    }
   ],
   "source": [
    "animals['hospital_number'].nunique()"
   ]
  },
  {
   "cell_type": "code",
   "execution_count": 20,
   "metadata": {},
   "outputs": [],
   "source": [
    "animals.drop('hospital_number', axis=1, inplace=True)"
   ]
  },
  {
   "cell_type": "code",
   "execution_count": 27,
   "metadata": {},
   "outputs": [
    {
     "data": {
      "text/plain": [
       "Index(['surgery', 'age', 'temp_of_extremities', 'peripheral_pulse',\n",
       "       'mucous_membrane', 'capillary_refill_time', 'pain', 'peristalsis',\n",
       "       'abdominal_distention', 'surgical_lesion', 'cp_data'],\n",
       "      dtype='object')"
      ]
     },
     "execution_count": 27,
     "metadata": {},
     "output_type": "execute_result"
    }
   ],
   "source": [
    "animals.select_dtypes('O').columns"
   ]
  },
  {
   "cell_type": "code",
   "execution_count": 21,
   "metadata": {},
   "outputs": [
    {
     "data": {
      "text/plain": [
       "['surgery',\n",
       " 'age',\n",
       " 'temp_of_extremities',\n",
       " 'peripheral_pulse',\n",
       " 'mucous_membrane',\n",
       " 'capillary_refill_time',\n",
       " 'pain',\n",
       " 'peristalsis',\n",
       " 'abdominal_distention',\n",
       " 'surgical_lesion',\n",
       " 'cp_data']"
      ]
     },
     "execution_count": 21,
     "metadata": {},
     "output_type": "execute_result"
    }
   ],
   "source": [
    "list(animals.select_dtypes('O').columns)"
   ]
  },
  {
   "cell_type": "code",
   "execution_count": 22,
   "metadata": {
    "scrolled": true
   },
   "outputs": [],
   "source": [
    "category_variables = list(animals.select_dtypes('object').columns)"
   ]
  },
  {
   "cell_type": "code",
   "execution_count": 23,
   "metadata": {},
   "outputs": [
    {
     "data": {
      "text/plain": [
       "['surgery',\n",
       " 'age',\n",
       " 'temp_of_extremities',\n",
       " 'peripheral_pulse',\n",
       " 'mucous_membrane',\n",
       " 'capillary_refill_time',\n",
       " 'pain',\n",
       " 'peristalsis',\n",
       " 'abdominal_distention',\n",
       " 'surgical_lesion',\n",
       " 'cp_data']"
      ]
     },
     "execution_count": 23,
     "metadata": {},
     "output_type": "execute_result"
    }
   ],
   "source": [
    "category_variables"
   ]
  },
  {
   "cell_type": "code",
   "execution_count": 28,
   "metadata": {},
   "outputs": [],
   "source": [
    "animals = pd.get_dummies(animals, columns=category_variables)"
   ]
  },
  {
   "cell_type": "code",
   "execution_count": 29,
   "metadata": {},
   "outputs": [
    {
     "name": "stdout",
     "output_type": "stream",
     "text": [
      "<class 'pandas.core.frame.DataFrame'>\n",
      "RangeIndex: 299 entries, 0 to 298\n",
      "Data columns (total 46 columns):\n",
      " #   Column                            Non-Null Count  Dtype  \n",
      "---  ------                            --------------  -----  \n",
      " 0   rectal_temp                       299 non-null    float64\n",
      " 1   pulse                             299 non-null    float64\n",
      " 2   respiratory_rate                  299 non-null    float64\n",
      " 3   packed_cell_volume                299 non-null    float64\n",
      " 4   total_protein                     299 non-null    float64\n",
      " 5   lesion_1                          299 non-null    int64  \n",
      " 6   lesion_2                          299 non-null    int64  \n",
      " 7   lesion_3                          299 non-null    int64  \n",
      " 8   surgery_no                        299 non-null    uint8  \n",
      " 9   surgery_yes                       299 non-null    uint8  \n",
      " 10  age_adult                         299 non-null    uint8  \n",
      " 11  age_young                         299 non-null    uint8  \n",
      " 12  temp_of_extremities_cold          299 non-null    uint8  \n",
      " 13  temp_of_extremities_cool          299 non-null    uint8  \n",
      " 14  temp_of_extremities_normal        299 non-null    uint8  \n",
      " 15  temp_of_extremities_warm          299 non-null    uint8  \n",
      " 16  peripheral_pulse_absent           299 non-null    uint8  \n",
      " 17  peripheral_pulse_increased        299 non-null    uint8  \n",
      " 18  peripheral_pulse_normal           299 non-null    uint8  \n",
      " 19  peripheral_pulse_reduced          299 non-null    uint8  \n",
      " 20  mucous_membrane_bright_pink       299 non-null    uint8  \n",
      " 21  mucous_membrane_bright_red        299 non-null    uint8  \n",
      " 22  mucous_membrane_dark_cyanotic     299 non-null    uint8  \n",
      " 23  mucous_membrane_normal_pink       299 non-null    uint8  \n",
      " 24  mucous_membrane_pale_cyanotic     299 non-null    uint8  \n",
      " 25  mucous_membrane_pale_pink         299 non-null    uint8  \n",
      " 26  capillary_refill_time_3           299 non-null    uint8  \n",
      " 27  capillary_refill_time_less_3_sec  299 non-null    uint8  \n",
      " 28  capillary_refill_time_more_3_sec  299 non-null    uint8  \n",
      " 29  pain_alert                        299 non-null    uint8  \n",
      " 30  pain_depressed                    299 non-null    uint8  \n",
      " 31  pain_extreme_pain                 299 non-null    uint8  \n",
      " 32  pain_mild_pain                    299 non-null    uint8  \n",
      " 33  pain_severe_pain                  299 non-null    uint8  \n",
      " 34  peristalsis_absent                299 non-null    uint8  \n",
      " 35  peristalsis_hypermotile           299 non-null    uint8  \n",
      " 36  peristalsis_hypomotile            299 non-null    uint8  \n",
      " 37  peristalsis_normal                299 non-null    uint8  \n",
      " 38  abdominal_distention_moderate     299 non-null    uint8  \n",
      " 39  abdominal_distention_none         299 non-null    uint8  \n",
      " 40  abdominal_distention_severe       299 non-null    uint8  \n",
      " 41  abdominal_distention_slight       299 non-null    uint8  \n",
      " 42  surgical_lesion_no                299 non-null    uint8  \n",
      " 43  surgical_lesion_yes               299 non-null    uint8  \n",
      " 44  cp_data_no                        299 non-null    uint8  \n",
      " 45  cp_data_yes                       299 non-null    uint8  \n",
      "dtypes: float64(5), int64(3), uint8(38)\n",
      "memory usage: 29.9 KB\n"
     ]
    }
   ],
   "source": [
    "animals.info()"
   ]
  },
  {
   "cell_type": "code",
   "execution_count": 30,
   "metadata": {},
   "outputs": [],
   "source": [
    "from sklearn.model_selection import train_test_split\n",
    "from sklearn.preprocessing import LabelEncoder"
   ]
  },
  {
   "cell_type": "code",
   "execution_count": 31,
   "metadata": {},
   "outputs": [],
   "source": [
    "X = animals\n",
    "y = target"
   ]
  },
  {
   "cell_type": "code",
   "execution_count": 32,
   "metadata": {},
   "outputs": [
    {
     "data": {
      "text/plain": [
       "0            died\n",
       "1      euthanized\n",
       "2           lived\n",
       "3            died\n",
       "4            died\n",
       "          ...    \n",
       "294    euthanized\n",
       "295    euthanized\n",
       "296          died\n",
       "297         lived\n",
       "298    euthanized\n",
       "Name: outcome, Length: 299, dtype: object"
      ]
     },
     "execution_count": 32,
     "metadata": {},
     "output_type": "execute_result"
    }
   ],
   "source": [
    "y"
   ]
  },
  {
   "cell_type": "code",
   "execution_count": 33,
   "metadata": {},
   "outputs": [],
   "source": [
    "le = LabelEncoder()\n",
    "y = le.fit_transform(y)"
   ]
  },
  {
   "cell_type": "code",
   "execution_count": 34,
   "metadata": {},
   "outputs": [
    {
     "data": {
      "text/plain": [
       "array([0, 1, 2, 0, 0, 2, 2, 0, 1, 2, 2, 2, 2, 0, 2, 0, 0, 2, 2, 2, 2, 2,\n",
       "       2, 2, 2, 2, 2, 2, 0, 2, 0, 1, 2, 2, 2, 1, 1, 2, 2, 0, 0, 2, 2, 1,\n",
       "       1, 0, 2, 2, 0, 0, 2, 0, 2, 2, 1, 0, 2, 0, 0, 0, 2, 2, 0, 1, 2, 2,\n",
       "       2, 2, 2, 2, 1, 2, 0, 0, 0, 1, 2, 2, 0, 2, 0, 2, 2, 0, 2, 2, 0, 1,\n",
       "       2, 2, 2, 0, 2, 0, 2, 2, 2, 1, 2, 2, 2, 1, 2, 2, 0, 2, 2, 2, 1, 0,\n",
       "       0, 2, 2, 0, 2, 2, 2, 1, 2, 2, 2, 1, 2, 0, 1, 2, 2, 2, 1, 2, 0, 0,\n",
       "       2, 0, 0, 0, 2, 2, 2, 2, 0, 0, 2, 1, 2, 2, 0, 2, 2, 2, 0, 2, 2, 2,\n",
       "       2, 2, 1, 2, 2, 2, 0, 2, 1, 2, 1, 2, 2, 2, 1, 2, 0, 2, 0, 0, 2, 2,\n",
       "       0, 2, 1, 0, 2, 0, 2, 2, 2, 2, 2, 2, 2, 2, 2, 2, 0, 2, 2, 1, 0, 2,\n",
       "       2, 2, 0, 1, 2, 2, 1, 2, 0, 1, 2, 0, 0, 2, 2, 2, 2, 2, 2, 1, 2, 1,\n",
       "       2, 2, 2, 2, 2, 0, 2, 1, 2, 2, 0, 2, 2, 2, 0, 2, 2, 1, 1, 0, 2, 0,\n",
       "       2, 2, 0, 2, 0, 2, 2, 1, 0, 0, 2, 2, 0, 1, 0, 2, 0, 2, 2, 2, 0, 2,\n",
       "       1, 2, 2, 2, 2, 0, 2, 2, 0, 1, 0, 1, 2, 2, 2, 2, 0, 0, 2, 2, 2, 1,\n",
       "       2, 2, 2, 2, 0, 0, 1, 2, 1, 1, 0, 2, 1])"
      ]
     },
     "execution_count": 34,
     "metadata": {},
     "output_type": "execute_result"
    }
   ],
   "source": [
    "y"
   ]
  },
  {
   "cell_type": "code",
   "execution_count": 35,
   "metadata": {},
   "outputs": [],
   "source": [
    "X_train, X_test, y_train, y_test = train_test_split(X,y, test_size=0.3)"
   ]
  },
  {
   "cell_type": "code",
   "execution_count": 36,
   "metadata": {},
   "outputs": [
    {
     "data": {
      "text/plain": [
       "((209, 46), (90, 46))"
      ]
     },
     "execution_count": 36,
     "metadata": {},
     "output_type": "execute_result"
    }
   ],
   "source": [
    "X_train.shape, X_test.shape"
   ]
  },
  {
   "cell_type": "code",
   "execution_count": 37,
   "metadata": {},
   "outputs": [],
   "source": [
    "from sklearn.tree import DecisionTreeClassifier"
   ]
  },
  {
   "cell_type": "code",
   "execution_count": 38,
   "metadata": {},
   "outputs": [],
   "source": [
    "classifier = DecisionTreeClassifier()"
   ]
  },
  {
   "cell_type": "code",
   "execution_count": 39,
   "metadata": {},
   "outputs": [
    {
     "data": {
      "text/plain": [
       "DecisionTreeClassifier()"
      ]
     },
     "execution_count": 39,
     "metadata": {},
     "output_type": "execute_result"
    }
   ],
   "source": [
    "classifier.fit(X_train,y_train)"
   ]
  },
  {
   "cell_type": "code",
   "execution_count": 40,
   "metadata": {},
   "outputs": [
    {
     "data": {
      "text/plain": [
       "1.0"
      ]
     },
     "execution_count": 40,
     "metadata": {},
     "output_type": "execute_result"
    }
   ],
   "source": [
    "classifier.score(X_train,y_train)"
   ]
  },
  {
   "cell_type": "code",
   "execution_count": 41,
   "metadata": {},
   "outputs": [
    {
     "data": {
      "text/plain": [
       "0.5888888888888889"
      ]
     },
     "execution_count": 41,
     "metadata": {},
     "output_type": "execute_result"
    }
   ],
   "source": [
    "classifier.score(X_test, y_test)"
   ]
  },
  {
   "cell_type": "code",
   "execution_count": 42,
   "metadata": {},
   "outputs": [],
   "source": [
    "pred_y_train = classifier.predict(X_train)"
   ]
  },
  {
   "cell_type": "code",
   "execution_count": 43,
   "metadata": {},
   "outputs": [],
   "source": [
    "pred_y_test = classifier.predict(X_test)"
   ]
  },
  {
   "cell_type": "code",
   "execution_count": 44,
   "metadata": {},
   "outputs": [],
   "source": [
    "from sklearn import metrics"
   ]
  },
  {
   "cell_type": "code",
   "execution_count": 45,
   "metadata": {},
   "outputs": [
    {
     "data": {
      "text/plain": [
       "1.0"
      ]
     },
     "execution_count": 45,
     "metadata": {},
     "output_type": "execute_result"
    }
   ],
   "source": [
    "metrics.accuracy_score(pred_y_train, y_train)"
   ]
  },
  {
   "cell_type": "code",
   "execution_count": 46,
   "metadata": {},
   "outputs": [
    {
     "data": {
      "text/plain": [
       "0.5888888888888889"
      ]
     },
     "execution_count": 46,
     "metadata": {},
     "output_type": "execute_result"
    }
   ],
   "source": [
    "metrics.accuracy_score(pred_y_test, y_test)"
   ]
  },
  {
   "cell_type": "code",
   "execution_count": 47,
   "metadata": {},
   "outputs": [],
   "source": [
    "from sklearn.model_selection import GridSearchCV"
   ]
  },
  {
   "cell_type": "code",
   "execution_count": 48,
   "metadata": {},
   "outputs": [],
   "source": [
    "param_grid = {\n",
    "    'max_depth':[1,2,3,4,5,None],\n",
    "    'min_samples_leaf': [1,2,3,5]\n",
    "}"
   ]
  },
  {
   "cell_type": "code",
   "execution_count": 59,
   "metadata": {},
   "outputs": [],
   "source": [
    "gs = GridSearchCV(classifier, param_grid = param_grid, cv=3, verbose=2)"
   ]
  },
  {
   "cell_type": "code",
   "execution_count": 60,
   "metadata": {},
   "outputs": [
    {
     "name": "stdout",
     "output_type": "stream",
     "text": [
      "Fitting 3 folds for each of 24 candidates, totalling 72 fits\n",
      "[CV] max_depth=1, min_samples_leaf=1 .................................\n",
      "[CV] .................. max_depth=1, min_samples_leaf=1, total=   0.0s\n",
      "[CV] max_depth=1, min_samples_leaf=1 .................................\n",
      "[CV] .................. max_depth=1, min_samples_leaf=1, total=   0.0s\n",
      "[CV] max_depth=1, min_samples_leaf=1 .................................\n",
      "[CV] .................. max_depth=1, min_samples_leaf=1, total=   0.0s\n",
      "[CV] max_depth=1, min_samples_leaf=2 .................................\n",
      "[CV] .................. max_depth=1, min_samples_leaf=2, total=   0.0s\n",
      "[CV] max_depth=1, min_samples_leaf=2 .................................\n",
      "[CV] .................. max_depth=1, min_samples_leaf=2, total=   0.0s\n",
      "[CV] max_depth=1, min_samples_leaf=2 .................................\n",
      "[CV] .................. max_depth=1, min_samples_leaf=2, total=   0.0s\n",
      "[CV] max_depth=1, min_samples_leaf=3 .................................\n",
      "[CV] .................. max_depth=1, min_samples_leaf=3, total=   0.0s\n",
      "[CV] max_depth=1, min_samples_leaf=3 .................................\n",
      "[CV] .................. max_depth=1, min_samples_leaf=3, total=   0.0s\n",
      "[CV] max_depth=1, min_samples_leaf=3 .................................\n",
      "[CV] .................. max_depth=1, min_samples_leaf=3, total=   0.1s\n",
      "[CV] max_depth=1, min_samples_leaf=5 .................................\n"
     ]
    },
    {
     "name": "stderr",
     "output_type": "stream",
     "text": [
      "[Parallel(n_jobs=1)]: Using backend SequentialBackend with 1 concurrent workers.\n",
      "[Parallel(n_jobs=1)]: Done   1 out of   1 | elapsed:    0.0s remaining:    0.0s\n"
     ]
    },
    {
     "name": "stdout",
     "output_type": "stream",
     "text": [
      "[CV] .................. max_depth=1, min_samples_leaf=5, total=   0.1s\n",
      "[CV] max_depth=1, min_samples_leaf=5 .................................\n",
      "[CV] .................. max_depth=1, min_samples_leaf=5, total=   0.0s\n",
      "[CV] max_depth=1, min_samples_leaf=5 .................................\n",
      "[CV] .................. max_depth=1, min_samples_leaf=5, total=   0.0s\n",
      "[CV] max_depth=2, min_samples_leaf=1 .................................\n",
      "[CV] .................. max_depth=2, min_samples_leaf=1, total=   0.0s\n",
      "[CV] max_depth=2, min_samples_leaf=1 .................................\n",
      "[CV] .................. max_depth=2, min_samples_leaf=1, total=   0.0s\n",
      "[CV] max_depth=2, min_samples_leaf=1 .................................\n",
      "[CV] .................. max_depth=2, min_samples_leaf=1, total=   0.0s\n",
      "[CV] max_depth=2, min_samples_leaf=2 .................................\n",
      "[CV] .................. max_depth=2, min_samples_leaf=2, total=   0.0s\n",
      "[CV] max_depth=2, min_samples_leaf=2 .................................\n",
      "[CV] .................. max_depth=2, min_samples_leaf=2, total=   0.0s\n",
      "[CV] max_depth=2, min_samples_leaf=2 .................................\n",
      "[CV] .................. max_depth=2, min_samples_leaf=2, total=   0.0s\n",
      "[CV] max_depth=2, min_samples_leaf=3 .................................\n",
      "[CV] .................. max_depth=2, min_samples_leaf=3, total=   0.0s\n",
      "[CV] max_depth=2, min_samples_leaf=3 .................................\n",
      "[CV] .................. max_depth=2, min_samples_leaf=3, total=   0.0s\n",
      "[CV] max_depth=2, min_samples_leaf=3 .................................\n",
      "[CV] .................. max_depth=2, min_samples_leaf=3, total=   0.0s\n",
      "[CV] max_depth=2, min_samples_leaf=5 .................................\n",
      "[CV] .................. max_depth=2, min_samples_leaf=5, total=   0.0s\n",
      "[CV] max_depth=2, min_samples_leaf=5 .................................\n",
      "[CV] .................. max_depth=2, min_samples_leaf=5, total=   0.0s\n",
      "[CV] max_depth=2, min_samples_leaf=5 .................................\n",
      "[CV] .................. max_depth=2, min_samples_leaf=5, total=   0.0s\n",
      "[CV] max_depth=3, min_samples_leaf=1 .................................\n",
      "[CV] .................. max_depth=3, min_samples_leaf=1, total=   0.0s\n",
      "[CV] max_depth=3, min_samples_leaf=1 .................................\n",
      "[CV] .................. max_depth=3, min_samples_leaf=1, total=   0.0s\n",
      "[CV] max_depth=3, min_samples_leaf=1 .................................\n",
      "[CV] .................. max_depth=3, min_samples_leaf=1, total=   0.0s\n",
      "[CV] max_depth=3, min_samples_leaf=2 .................................\n",
      "[CV] .................. max_depth=3, min_samples_leaf=2, total=   0.0s\n",
      "[CV] max_depth=3, min_samples_leaf=2 .................................\n",
      "[CV] .................. max_depth=3, min_samples_leaf=2, total=   0.0s\n",
      "[CV] max_depth=3, min_samples_leaf=2 .................................\n",
      "[CV] .................. max_depth=3, min_samples_leaf=2, total=   0.0s\n",
      "[CV] max_depth=3, min_samples_leaf=3 .................................\n",
      "[CV] .................. max_depth=3, min_samples_leaf=3, total=   0.0s\n",
      "[CV] max_depth=3, min_samples_leaf=3 .................................\n",
      "[CV] .................. max_depth=3, min_samples_leaf=3, total=   0.0s\n",
      "[CV] max_depth=3, min_samples_leaf=3 .................................\n",
      "[CV] .................. max_depth=3, min_samples_leaf=3, total=   0.0s\n",
      "[CV] max_depth=3, min_samples_leaf=5 .................................\n",
      "[CV] .................. max_depth=3, min_samples_leaf=5, total=   0.0s\n",
      "[CV] max_depth=3, min_samples_leaf=5 .................................\n",
      "[CV] .................. max_depth=3, min_samples_leaf=5, total=   0.0s\n",
      "[CV] max_depth=3, min_samples_leaf=5 .................................\n",
      "[CV] .................. max_depth=3, min_samples_leaf=5, total=   0.0s\n",
      "[CV] max_depth=4, min_samples_leaf=1 .................................\n",
      "[CV] .................. max_depth=4, min_samples_leaf=1, total=   0.0s\n",
      "[CV] max_depth=4, min_samples_leaf=1 .................................\n",
      "[CV] .................. max_depth=4, min_samples_leaf=1, total=   0.0s\n",
      "[CV] max_depth=4, min_samples_leaf=1 .................................\n",
      "[CV] .................. max_depth=4, min_samples_leaf=1, total=   0.0s\n",
      "[CV] max_depth=4, min_samples_leaf=2 .................................\n",
      "[CV] .................. max_depth=4, min_samples_leaf=2, total=   0.0s\n",
      "[CV] max_depth=4, min_samples_leaf=2 .................................\n",
      "[CV] .................. max_depth=4, min_samples_leaf=2, total=   0.0s\n",
      "[CV] max_depth=4, min_samples_leaf=2 .................................\n",
      "[CV] .................. max_depth=4, min_samples_leaf=2, total=   0.0s\n",
      "[CV] max_depth=4, min_samples_leaf=3 .................................\n",
      "[CV] .................. max_depth=4, min_samples_leaf=3, total=   0.0s\n",
      "[CV] max_depth=4, min_samples_leaf=3 .................................\n",
      "[CV] .................. max_depth=4, min_samples_leaf=3, total=   0.0s\n",
      "[CV] max_depth=4, min_samples_leaf=3 .................................\n",
      "[CV] .................. max_depth=4, min_samples_leaf=3, total=   0.0s\n",
      "[CV] max_depth=4, min_samples_leaf=5 .................................\n",
      "[CV] .................. max_depth=4, min_samples_leaf=5, total=   0.0s\n",
      "[CV] max_depth=4, min_samples_leaf=5 .................................\n",
      "[CV] .................. max_depth=4, min_samples_leaf=5, total=   0.0s\n",
      "[CV] max_depth=4, min_samples_leaf=5 .................................\n",
      "[CV] .................. max_depth=4, min_samples_leaf=5, total=   0.0s\n",
      "[CV] max_depth=5, min_samples_leaf=1 .................................\n",
      "[CV] .................. max_depth=5, min_samples_leaf=1, total=   0.0s\n",
      "[CV] max_depth=5, min_samples_leaf=1 .................................\n",
      "[CV] .................. max_depth=5, min_samples_leaf=1, total=   0.0s\n",
      "[CV] max_depth=5, min_samples_leaf=1 .................................\n",
      "[CV] .................. max_depth=5, min_samples_leaf=1, total=   0.0s\n",
      "[CV] max_depth=5, min_samples_leaf=2 .................................\n",
      "[CV] .................. max_depth=5, min_samples_leaf=2, total=   0.0s\n",
      "[CV] max_depth=5, min_samples_leaf=2 .................................\n",
      "[CV] .................. max_depth=5, min_samples_leaf=2, total=   0.0s\n",
      "[CV] max_depth=5, min_samples_leaf=2 .................................\n",
      "[CV] .................. max_depth=5, min_samples_leaf=2, total=   0.0s\n",
      "[CV] max_depth=5, min_samples_leaf=3 .................................\n",
      "[CV] .................. max_depth=5, min_samples_leaf=3, total=   0.0s\n",
      "[CV] max_depth=5, min_samples_leaf=3 .................................\n",
      "[CV] .................. max_depth=5, min_samples_leaf=3, total=   0.0s\n",
      "[CV] max_depth=5, min_samples_leaf=3 .................................\n",
      "[CV] .................. max_depth=5, min_samples_leaf=3, total=   0.0s\n",
      "[CV] max_depth=5, min_samples_leaf=5 .................................\n",
      "[CV] .................. max_depth=5, min_samples_leaf=5, total=   0.0s\n",
      "[CV] max_depth=5, min_samples_leaf=5 .................................\n",
      "[CV] .................. max_depth=5, min_samples_leaf=5, total=   0.0s\n",
      "[CV] max_depth=5, min_samples_leaf=5 .................................\n",
      "[CV] .................. max_depth=5, min_samples_leaf=5, total=   0.0s\n",
      "[CV] max_depth=None, min_samples_leaf=1 ..............................\n",
      "[CV] ............... max_depth=None, min_samples_leaf=1, total=   0.1s\n",
      "[CV] max_depth=None, min_samples_leaf=1 ..............................\n",
      "[CV] ............... max_depth=None, min_samples_leaf=1, total=   0.0s\n",
      "[CV] max_depth=None, min_samples_leaf=1 ..............................\n",
      "[CV] ............... max_depth=None, min_samples_leaf=1, total=   0.0s\n",
      "[CV] max_depth=None, min_samples_leaf=2 ..............................\n",
      "[CV] ............... max_depth=None, min_samples_leaf=2, total=   0.1s\n",
      "[CV] max_depth=None, min_samples_leaf=2 ..............................\n",
      "[CV] ............... max_depth=None, min_samples_leaf=2, total=   0.0s\n",
      "[CV] max_depth=None, min_samples_leaf=2 ..............................\n",
      "[CV] ............... max_depth=None, min_samples_leaf=2, total=   0.0s\n",
      "[CV] max_depth=None, min_samples_leaf=3 ..............................\n",
      "[CV] ............... max_depth=None, min_samples_leaf=3, total=   0.0s\n",
      "[CV] max_depth=None, min_samples_leaf=3 ..............................\n",
      "[CV] ............... max_depth=None, min_samples_leaf=3, total=   0.0s\n",
      "[CV] max_depth=None, min_samples_leaf=3 ..............................\n",
      "[CV] ............... max_depth=None, min_samples_leaf=3, total=   0.0s\n",
      "[CV] max_depth=None, min_samples_leaf=5 ..............................\n",
      "[CV] ............... max_depth=None, min_samples_leaf=5, total=   0.0s\n",
      "[CV] max_depth=None, min_samples_leaf=5 ..............................\n",
      "[CV] ............... max_depth=None, min_samples_leaf=5, total=   0.0s\n",
      "[CV] max_depth=None, min_samples_leaf=5 ..............................\n",
      "[CV] ............... max_depth=None, min_samples_leaf=5, total=   0.0s\n"
     ]
    },
    {
     "name": "stderr",
     "output_type": "stream",
     "text": [
      "[Parallel(n_jobs=1)]: Done  72 out of  72 | elapsed:    1.5s finished\n"
     ]
    },
    {
     "data": {
      "text/plain": [
       "GridSearchCV(cv=3, estimator=DecisionTreeClassifier(),\n",
       "             param_grid={'max_depth': [1, 2, 3, 4, 5, None],\n",
       "                         'min_samples_leaf': [1, 2, 3, 5]},\n",
       "             verbose=2)"
      ]
     },
     "execution_count": 60,
     "metadata": {},
     "output_type": "execute_result"
    }
   ],
   "source": [
    "gs.fit(X,y)"
   ]
  },
  {
   "cell_type": "code",
   "execution_count": 51,
   "metadata": {},
   "outputs": [
    {
     "data": {
      "text/plain": [
       "{'max_depth': 5, 'min_samples_leaf': 3}"
      ]
     },
     "execution_count": 51,
     "metadata": {},
     "output_type": "execute_result"
    }
   ],
   "source": [
    "gs.best_params_"
   ]
  },
  {
   "cell_type": "code",
   "execution_count": 52,
   "metadata": {},
   "outputs": [
    {
     "data": {
      "text/plain": [
       "0.6755555555555555"
      ]
     },
     "execution_count": 52,
     "metadata": {},
     "output_type": "execute_result"
    }
   ],
   "source": [
    "gs.best_score_"
   ]
  },
  {
   "cell_type": "code",
   "execution_count": 62,
   "metadata": {},
   "outputs": [
    {
     "data": {
      "text/plain": [
       "array([0.06212402, 0.19188324, 0.1067518 , 0.13561677, 0.15849303,\n",
       "       0.08253912, 0.        , 0.        , 0.01993678, 0.        ,\n",
       "       0.        , 0.        , 0.        , 0.        , 0.04910883,\n",
       "       0.        , 0.        , 0.        , 0.        , 0.        ,\n",
       "       0.        , 0.        , 0.        , 0.0157434 , 0.        ,\n",
       "       0.00703941, 0.        , 0.00879926, 0.        , 0.        ,\n",
       "       0.        , 0.02818921, 0.        , 0.06068797, 0.01759852,\n",
       "       0.01231896, 0.        , 0.01407881, 0.        , 0.        ,\n",
       "       0.        , 0.00439963, 0.        , 0.        , 0.02469125,\n",
       "       0.        ])"
      ]
     },
     "execution_count": 62,
     "metadata": {},
     "output_type": "execute_result"
    }
   ],
   "source": [
    "classifier.feature_importances_"
   ]
  },
  {
   "cell_type": "code",
   "execution_count": 63,
   "metadata": {},
   "outputs": [
    {
     "data": {
      "text/plain": [
       "Index(['rectal_temp', 'pulse', 'respiratory_rate', 'packed_cell_volume',\n",
       "       'total_protein', 'lesion_1', 'lesion_2', 'lesion_3', 'surgery_no',\n",
       "       'surgery_yes', 'age_adult', 'age_young', 'temp_of_extremities_cold',\n",
       "       'temp_of_extremities_cool', 'temp_of_extremities_normal',\n",
       "       'temp_of_extremities_warm', 'peripheral_pulse_absent',\n",
       "       'peripheral_pulse_increased', 'peripheral_pulse_normal',\n",
       "       'peripheral_pulse_reduced', 'mucous_membrane_bright_pink',\n",
       "       'mucous_membrane_bright_red', 'mucous_membrane_dark_cyanotic',\n",
       "       'mucous_membrane_normal_pink', 'mucous_membrane_pale_cyanotic',\n",
       "       'mucous_membrane_pale_pink', 'capillary_refill_time_3',\n",
       "       'capillary_refill_time_less_3_sec', 'capillary_refill_time_more_3_sec',\n",
       "       'pain_alert', 'pain_depressed', 'pain_extreme_pain', 'pain_mild_pain',\n",
       "       'pain_severe_pain', 'peristalsis_absent', 'peristalsis_hypermotile',\n",
       "       'peristalsis_hypomotile', 'peristalsis_normal',\n",
       "       'abdominal_distention_moderate', 'abdominal_distention_none',\n",
       "       'abdominal_distention_severe', 'abdominal_distention_slight',\n",
       "       'surgical_lesion_no', 'surgical_lesion_yes', 'cp_data_no',\n",
       "       'cp_data_yes'],\n",
       "      dtype='object')"
      ]
     },
     "execution_count": 63,
     "metadata": {},
     "output_type": "execute_result"
    }
   ],
   "source": [
    "X.columns"
   ]
  },
  {
   "cell_type": "markdown",
   "metadata": {},
   "source": [
    "# RandomForest Classifier"
   ]
  },
  {
   "cell_type": "code",
   "execution_count": null,
   "metadata": {},
   "outputs": [],
   "source": [
    "from sklearn.ensemble import RandomForestClassifier"
   ]
  },
  {
   "cell_type": "code",
   "execution_count": null,
   "metadata": {},
   "outputs": [],
   "source": [
    "rf = RandomForestClassifier()"
   ]
  },
  {
   "cell_type": "code",
   "execution_count": null,
   "metadata": {},
   "outputs": [],
   "source": [
    "rf.fit(X_train, y_train)"
   ]
  },
  {
   "cell_type": "code",
   "execution_count": null,
   "metadata": {},
   "outputs": [],
   "source": [
    "rf.score(X_train, y_train)"
   ]
  },
  {
   "cell_type": "code",
   "execution_count": null,
   "metadata": {},
   "outputs": [],
   "source": [
    "rf.score(X_test, y_test)"
   ]
  },
  {
   "cell_type": "code",
   "execution_count": null,
   "metadata": {},
   "outputs": [],
   "source": [
    "param_grid = {\n",
    "    'n_estimators': [50,100,150],\n",
    "    'max_depth': [None,1,3],\n",
    "    'min_samples_leaf': [1,3,5]\n",
    "}"
   ]
  },
  {
   "cell_type": "code",
   "execution_count": null,
   "metadata": {},
   "outputs": [],
   "source": [
    "gs = GridSearchCV(estimator=rf, param_grid=param_grid, cv=3, verbose=1)"
   ]
  },
  {
   "cell_type": "code",
   "execution_count": null,
   "metadata": {
    "scrolled": true
   },
   "outputs": [],
   "source": [
    "gs.fit(X,y)"
   ]
  },
  {
   "cell_type": "code",
   "execution_count": null,
   "metadata": {},
   "outputs": [],
   "source": [
    "gs.best_params_"
   ]
  },
  {
   "cell_type": "code",
   "execution_count": null,
   "metadata": {},
   "outputs": [],
   "source": [
    "gs.best_score_"
   ]
  },
  {
   "cell_type": "code",
   "execution_count": null,
   "metadata": {},
   "outputs": [],
   "source": [
    "rf.fit(X_train, y_train)"
   ]
  },
  {
   "cell_type": "code",
   "execution_count": null,
   "metadata": {},
   "outputs": [],
   "source": [
    "rf.feature_importances_"
   ]
  },
  {
   "cell_type": "code",
   "execution_count": null,
   "metadata": {},
   "outputs": [],
   "source": [
    "X_train.columns"
   ]
  },
  {
   "cell_type": "code",
   "execution_count": null,
   "metadata": {},
   "outputs": [],
   "source": [
    "import seaborn as sns\n",
    "import matplotlib.pyplot as plt"
   ]
  },
  {
   "cell_type": "code",
   "execution_count": null,
   "metadata": {},
   "outputs": [],
   "source": [
    "plt.figure(figsize=(8,8))\n",
    "sns.barplot(y=X_train.columns, x=rf.feature_importances_)"
   ]
  },
  {
   "cell_type": "markdown",
   "metadata": {
    "_uuid": "b0a524cdd6eb069d02aab429a1cf2024ab54cf18"
   },
   "source": [
    "## K-Nearest Neighbour (KNN) Classification\n",
    "<br>\n",
    "Let's see what will be score if we use KNN algorithm."
   ]
  },
  {
   "cell_type": "markdown",
   "metadata": {
    "_uuid": "2a9f77931e249f18b5247349932fbf650d9052fe"
   },
   "source": [
    "**KNN Algorithm**\n",
    "<br>\n",
    "<img src=\"http://res.cloudinary.com/dyd911kmh/image/upload/f_auto,q_auto:best/v1531424125/KNN_final_a1mrv9.png\"/>"
   ]
  },
  {
   "cell_type": "code",
   "execution_count": null,
   "metadata": {},
   "outputs": [],
   "source": [
    "from sklearn.neighbors import KNeighborsClassifier"
   ]
  },
  {
   "cell_type": "code",
   "execution_count": null,
   "metadata": {},
   "outputs": [],
   "source": [
    "knn = KNeighborsClassifier(n_neighbors=3)"
   ]
  },
  {
   "cell_type": "code",
   "execution_count": null,
   "metadata": {},
   "outputs": [],
   "source": [
    "knn.fit(X_train, y_train)"
   ]
  },
  {
   "cell_type": "code",
   "execution_count": null,
   "metadata": {},
   "outputs": [],
   "source": [
    "knn.score(X_train,y_train)"
   ]
  },
  {
   "cell_type": "code",
   "execution_count": null,
   "metadata": {},
   "outputs": [],
   "source": [
    "knn.score(X_test,y_test)"
   ]
  },
  {
   "cell_type": "code",
   "execution_count": null,
   "metadata": {},
   "outputs": [],
   "source": [
    "neighbors = [i for i in range(2,10)]\n",
    "accuracies = list()"
   ]
  },
  {
   "cell_type": "code",
   "execution_count": null,
   "metadata": {},
   "outputs": [],
   "source": [
    "for i in neighbors:\n",
    "    knn = KNeighborsClassifier(n_neighbors=i)\n",
    "    knn.fit(X_train, y_train)\n",
    "    accuracies.append(knn.score(X_test,y_test))"
   ]
  },
  {
   "cell_type": "code",
   "execution_count": null,
   "metadata": {},
   "outputs": [],
   "source": [
    "# plt.figure(figsize=(8,8))\n",
    "sns.barplot(x=neighbors, y=accuracies)"
   ]
  },
  {
   "cell_type": "code",
   "execution_count": null,
   "metadata": {},
   "outputs": [],
   "source": [
    "accuracies"
   ]
  },
  {
   "cell_type": "code",
   "execution_count": null,
   "metadata": {},
   "outputs": [],
   "source": [
    "knn = KNeighborsClassifier(n_neighbors=4)"
   ]
  },
  {
   "cell_type": "code",
   "execution_count": null,
   "metadata": {},
   "outputs": [],
   "source": [
    "knn.fit(X_train, y_train)"
   ]
  },
  {
   "cell_type": "code",
   "execution_count": null,
   "metadata": {},
   "outputs": [],
   "source": [
    "knn.score(X_train,y_train)"
   ]
  },
  {
   "cell_type": "code",
   "execution_count": null,
   "metadata": {},
   "outputs": [],
   "source": [
    "knn.score(X_test,y_test)"
   ]
  },
  {
   "cell_type": "code",
   "execution_count": null,
   "metadata": {},
   "outputs": [],
   "source": []
  },
  {
   "cell_type": "markdown",
   "metadata": {
    "_uuid": "ca03737d17129db8ac352aa7e2eb5ea71826f63b"
   },
   "source": [
    "## Support Vector Machine (SVM) Algorithm \n",
    "Now we will use SVM algorithm. "
   ]
  },
  {
   "cell_type": "markdown",
   "metadata": {
    "_uuid": "a0eec2569ee5065a6f6fd7a25ed7f38c371b0afa"
   },
   "source": [
    "**Support Vector Machine Algorithm**\n",
    "<br>\n",
    "<img src=\"https://cdn-images-1.medium.com/max/1600/1*TudH6YvvH7-h5ZyF2dJV2w.jpeg\" width=\"500px\"/><br>\n",
    "<img src=\"https://aitrends.com/wp-content/uploads/2018/01/1-19SVM-2.jpg\" width=\"500px\"/>\n"
   ]
  },
  {
   "cell_type": "code",
   "execution_count": null,
   "metadata": {},
   "outputs": [],
   "source": [
    "from sklearn.svm import SVC"
   ]
  },
  {
   "cell_type": "code",
   "execution_count": null,
   "metadata": {},
   "outputs": [],
   "source": [
    "clf = SVC(kernel='rbf')"
   ]
  },
  {
   "cell_type": "code",
   "execution_count": null,
   "metadata": {},
   "outputs": [],
   "source": [
    "clf.fit(X_train, y_train)"
   ]
  },
  {
   "cell_type": "code",
   "execution_count": null,
   "metadata": {},
   "outputs": [],
   "source": [
    "clf.score(X_train, y_train)"
   ]
  },
  {
   "cell_type": "code",
   "execution_count": null,
   "metadata": {
    "scrolled": true
   },
   "outputs": [],
   "source": [
    "clf.score(X_test, y_test)"
   ]
  },
  {
   "cell_type": "code",
   "execution_count": null,
   "metadata": {},
   "outputs": [],
   "source": [
    "clf.predict(X_test)"
   ]
  },
  {
   "cell_type": "code",
   "execution_count": null,
   "metadata": {},
   "outputs": [],
   "source": [
    "y_test"
   ]
  },
  {
   "cell_type": "code",
   "execution_count": null,
   "metadata": {},
   "outputs": [],
   "source": [
    "param_grid = {\n",
    "    'C':[1, 5, 10],\n",
    "    'gamma':[0.001, 0.005, 0.0001, 0.00001]\n",
    "}"
   ]
  },
  {
   "cell_type": "code",
   "execution_count": null,
   "metadata": {},
   "outputs": [],
   "source": [
    "gs = GridSearchCV(estimator=clf, param_grid=param_grid, cv=3)"
   ]
  },
  {
   "cell_type": "code",
   "execution_count": null,
   "metadata": {},
   "outputs": [],
   "source": [
    "gs.fit(X,y)"
   ]
  },
  {
   "cell_type": "code",
   "execution_count": null,
   "metadata": {},
   "outputs": [],
   "source": [
    "gs.best_params_"
   ]
  },
  {
   "cell_type": "code",
   "execution_count": null,
   "metadata": {},
   "outputs": [],
   "source": [
    "gs.best_score_"
   ]
  },
  {
   "cell_type": "code",
   "execution_count": null,
   "metadata": {
    "scrolled": true
   },
   "outputs": [],
   "source": [
    "gs.cv_results_"
   ]
  },
  {
   "cell_type": "code",
   "execution_count": null,
   "metadata": {},
   "outputs": [],
   "source": [
    "clf = SVC(kernel='rbf', C=10, gamma=0.00001)"
   ]
  },
  {
   "cell_type": "code",
   "execution_count": null,
   "metadata": {},
   "outputs": [],
   "source": [
    "clf.fit(X_train, y_train)"
   ]
  },
  {
   "cell_type": "code",
   "execution_count": null,
   "metadata": {},
   "outputs": [],
   "source": [
    "clf.score(X_train, y_train)"
   ]
  },
  {
   "cell_type": "code",
   "execution_count": null,
   "metadata": {
    "scrolled": true
   },
   "outputs": [],
   "source": [
    "clf.score(X_test, y_test)"
   ]
  },
  {
   "cell_type": "code",
   "execution_count": null,
   "metadata": {},
   "outputs": [],
   "source": [
    "clf.predict(X_test)"
   ]
  },
  {
   "cell_type": "code",
   "execution_count": null,
   "metadata": {},
   "outputs": [],
   "source": []
  },
  {
   "cell_type": "markdown",
   "metadata": {
    "_uuid": "058a659cd261c900ff5ce0c6894420cbc0d00232"
   },
   "source": [
    "## Naive Bayes Algorithm"
   ]
  },
  {
   "cell_type": "markdown",
   "metadata": {
    "_uuid": "cb36324c6650e7371de9e77e53d6a531dd94a93a"
   },
   "source": [
    "**Naive Bayes Algorithm**\n",
    "<br>\n",
    "<img src=\"https://s3.ap-south-1.amazonaws.com/techleer/204.png\" width=\"500px\"/>"
   ]
  },
  {
   "cell_type": "code",
   "execution_count": null,
   "metadata": {},
   "outputs": [],
   "source": [
    "from sklearn.naive_bayes import GaussianNB, BernoulliNB, MultinomialNB"
   ]
  },
  {
   "cell_type": "code",
   "execution_count": null,
   "metadata": {},
   "outputs": [],
   "source": [
    "gnb = GaussianNB()"
   ]
  },
  {
   "cell_type": "code",
   "execution_count": null,
   "metadata": {},
   "outputs": [],
   "source": [
    "gnb.fit(X_train, y_train)"
   ]
  },
  {
   "cell_type": "code",
   "execution_count": null,
   "metadata": {},
   "outputs": [],
   "source": [
    "gnb.score(X_train, y_train)"
   ]
  },
  {
   "cell_type": "code",
   "execution_count": null,
   "metadata": {},
   "outputs": [],
   "source": [
    "gnb.score(X_test, y_test)"
   ]
  },
  {
   "cell_type": "markdown",
   "metadata": {},
   "source": [
    "# Ensemble Learning"
   ]
  },
  {
   "cell_type": "code",
   "execution_count": null,
   "metadata": {},
   "outputs": [],
   "source": [
    "from sklearn.ensemble import AdaBoostClassifier\n",
    "from sklearn import model_selection"
   ]
  },
  {
   "cell_type": "code",
   "execution_count": null,
   "metadata": {},
   "outputs": [],
   "source": [
    "kfold = model_selection.KFold(n_splits=10,  shuffle=True)\n",
    "\n",
    "model = AdaBoostClassifier(n_estimators=100)\n",
    "\n",
    "results = model_selection.cross_val_score(model, X, y, cv=kfold)\n",
    "\n",
    "# results = model_selection.cross_val_score(model, X, y, cv=10)"
   ]
  },
  {
   "cell_type": "code",
   "execution_count": null,
   "metadata": {},
   "outputs": [],
   "source": [
    "results.mean()\n"
   ]
  },
  {
   "cell_type": "code",
   "execution_count": null,
   "metadata": {
    "scrolled": true
   },
   "outputs": [],
   "source": [
    "results"
   ]
  },
  {
   "cell_type": "code",
   "execution_count": null,
   "metadata": {},
   "outputs": [],
   "source": []
  },
  {
   "cell_type": "code",
   "execution_count": null,
   "metadata": {},
   "outputs": [],
   "source": []
  },
  {
   "cell_type": "code",
   "execution_count": null,
   "metadata": {},
   "outputs": [],
   "source": [
    "from xgboost import XGBClassifier\n",
    "clf = XGBClassifier()\n",
    "\n",
    "seed = 7\n",
    "num_trees = 100\n",
    "\n",
    "kfold = model_selection.KFold(n_splits=10, random_state=seed)\n",
    "\n",
    "model = XGBClassifier(n_estimators=num_trees, random_state=seed)\n",
    "results = model_selection.cross_val_score(model, X, y, cv=kfold)\n",
    "\n",
    "print(results.mean())"
   ]
  },
  {
   "cell_type": "code",
   "execution_count": null,
   "metadata": {},
   "outputs": [],
   "source": []
  },
  {
   "cell_type": "code",
   "execution_count": null,
   "metadata": {},
   "outputs": [],
   "source": [
    "clf = XGBClassifier()"
   ]
  },
  {
   "cell_type": "code",
   "execution_count": null,
   "metadata": {},
   "outputs": [],
   "source": [
    "clf.fit(X_train, y_train)"
   ]
  },
  {
   "cell_type": "code",
   "execution_count": null,
   "metadata": {},
   "outputs": [],
   "source": [
    "clf.score(X_test, y_test)\n"
   ]
  },
  {
   "cell_type": "markdown",
   "metadata": {},
   "source": [
    "XGBOOST - 68 <br>\n",
    "ADABOOST - 64 <br>\n",
    "GNB - 61<br>\n",
    "SVC - 71<br>\n",
    "KNN - 75<br>\n",
    "RF - 70<br>\n",
    "DT - 69<br>"
   ]
  },
  {
   "cell_type": "markdown",
   "metadata": {},
   "source": [
    "# FINAL CLAASSIFIER"
   ]
  },
  {
   "cell_type": "code",
   "execution_count": null,
   "metadata": {},
   "outputs": [],
   "source": [
    "final_clf = SVC(kernel='rbf', C=10, gamma=0.00001)"
   ]
  },
  {
   "cell_type": "code",
   "execution_count": null,
   "metadata": {},
   "outputs": [],
   "source": [
    "final_clf.fit(X,y)"
   ]
  },
  {
   "cell_type": "code",
   "execution_count": null,
   "metadata": {},
   "outputs": [],
   "source": [
    "import pickle"
   ]
  },
  {
   "cell_type": "code",
   "execution_count": null,
   "metadata": {},
   "outputs": [],
   "source": [
    "with open('saved_final_classifier.pkl', 'wb') as f:\n",
    "    pickle.dump(final_clf, f)"
   ]
  },
  {
   "cell_type": "code",
   "execution_count": null,
   "metadata": {},
   "outputs": [],
   "source": [
    "with open('saved_final_classifier.pkl', 'rb') as f:\n",
    "    saved_model = pickle.load(f)"
   ]
  },
  {
   "cell_type": "code",
   "execution_count": null,
   "metadata": {},
   "outputs": [],
   "source": [
    "saved_model.score(X,y)"
   ]
  },
  {
   "cell_type": "code",
   "execution_count": null,
   "metadata": {},
   "outputs": [],
   "source": [
    "knn_classifier = KNeighborsClassifier(n_neighbors = 4)"
   ]
  },
  {
   "cell_type": "code",
   "execution_count": null,
   "metadata": {},
   "outputs": [],
   "source": [
    "knn_classifier.fit(X,y)"
   ]
  },
  {
   "cell_type": "code",
   "execution_count": null,
   "metadata": {},
   "outputs": [],
   "source": [
    "with open('knn_classifier.pkl', 'wb') as f:\n",
    "    pickle.dump(knn_classifier, f)"
   ]
  },
  {
   "cell_type": "code",
   "execution_count": null,
   "metadata": {},
   "outputs": [],
   "source": [
    "with open('knn_classifier.pkl', 'rb') as f:\n",
    "    saved_knn = pickle.load(f)"
   ]
  },
  {
   "cell_type": "code",
   "execution_count": null,
   "metadata": {},
   "outputs": [],
   "source": [
    "saved_knn.score(X,y)"
   ]
  },
  {
   "cell_type": "code",
   "execution_count": null,
   "metadata": {},
   "outputs": [],
   "source": []
  }
 ],
 "metadata": {
  "kernelspec": {
   "display_name": "Python 3",
   "language": "python",
   "name": "python3"
  },
  "language_info": {
   "codemirror_mode": {
    "name": "ipython",
    "version": 3
   },
   "file_extension": ".py",
   "mimetype": "text/x-python",
   "name": "python",
   "nbconvert_exporter": "python",
   "pygments_lexer": "ipython3",
   "version": "3.7.4"
  }
 },
 "nbformat": 4,
 "nbformat_minor": 4
}
